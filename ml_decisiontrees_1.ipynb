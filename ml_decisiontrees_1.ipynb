{
  "nbformat": 4,
  "nbformat_minor": 0,
  "metadata": {
    "colab": {
      "name": "ml-decisiontrees-1.ipynb",
      "provenance": [],
      "collapsed_sections": [],
      "authorship_tag": "ABX9TyOcq+cBa7PrbPnAE/RRGuV1",
      "include_colab_link": true
    },
    "kernelspec": {
      "name": "python3",
      "display_name": "Python 3"
    }
  },
  "cells": [
    {
      "cell_type": "markdown",
      "metadata": {
        "id": "view-in-github",
        "colab_type": "text"
      },
      "source": [
        "<a href=\"https://colab.research.google.com/github/atrigo/mlExp/blob/master/ml_decisiontrees_1.ipynb\" target=\"_parent\"><img src=\"https://colab.research.google.com/assets/colab-badge.svg\" alt=\"Open In Colab\"/></a>"
      ]
    },
    {
      "cell_type": "code",
      "metadata": {
        "id": "J507Gj87jITL",
        "colab_type": "code",
        "colab": {}
      },
      "source": [
        "import pandas as pd\n",
        "import numpy as np\n",
        "import matplotlib.pyplot as plt\n",
        "%matplotlib inline\n",
        "\n",
        "data=pd.read_csv('data_cleaned.csv')\n",
        "print(data.shape)\n",
        "print(data.head())\n",
        "\n",
        "#Verificar valores em falta nos dados\n",
        "print(data.isnull().sum())\n",
        "y = data['Survived']\n",
        "x = data.drop(['Survived'],axis=1) #retirar do conjunto a coluna target\n",
        "\n",
        "from sklearn.model_selection import train_test_split\n",
        "X_train, X_valid, y_train, y_valid = train_test_split(X,y,random_state=101,stratify=y,test_size=0.25)\n",
        "y_train.value_counts(normalize=True)\n",
        "y_valid.value_counts(normalize=True)\n",
        "\n",
        "print(X_valid.shape, y_valid.shape)\n",
        "from sklearn.tree import DecisionTreeClassifier\n",
        "from sklearn.tree import DecisionTreeRegressor\n",
        "dt_model = DecisionTreeClassifier(random_state=10)\n",
        "dt_model.fit(X_train,y_train)\n",
        "\n",
        "dt_model.score(X_train, y_train)\n",
        "dt_model.predict(X_valid)\n",
        "dt_model.predict_proba(X_valid)\n",
        "y_pred = dt_model.predict_proba(X_valid)[:,1]\n",
        "\n",
        "new_y = []\n",
        "for i in range (len(y_pred)):\n",
        "  if y_pred[i]<0.6:\n",
        "    new_y.append(0)\n",
        "  else:\n",
        "    new_y.append(1)\n",
        "\n",
        "from sklearn.metrics import accuracy_score\n",
        "print(accuracy_score(y_valid, new_y))\n",
        "\n",
        "#Alterar a depth da decision tree\n",
        "train_accuracy=[]\n",
        "validation_accuracy = []\n",
        "for depth in range(1,10):\n",
        "  dt_model = DEcisionTreeClassfier(max_dept=depth, randmo_state=10)\n",
        "  dt_model.fit(X_train,y_train)\n",
        "  train_accuracy.append(dt_model.score(x_train,y_train))\n",
        "  validation_accuracy.append(dt_model.score(x_valid,y_valid))\n",
        "\n",
        "frame = pd.DataFrame({'max_depth':range(1,10),'train_acc':train_accuracy,'valid_acc':validation_accuracy})\n",
        "print(frame.head)\n",
        "\n",
        "plt.figure(figsize=(12,6))\n",
        "plt.plot(frame['max_depth'],frame['train_acc'],marker='o')\n",
        "plt.plot(frame['max_depth'],frame['valid_acc'],marker='o')\n",
        "plt.xlabel('Depth da tree')\n",
        "plt.ylabel('Performance')\n",
        "plt.legend()\n",
        "\n"
      ],
      "execution_count": null,
      "outputs": []
    },
    {
      "cell_type": "code",
      "metadata": {
        "id": "6VJszjNZpMuH",
        "colab_type": "code",
        "colab": {}
      },
      "source": [
        "from sklearn import tree\n",
        "!pip install graphviz\n",
        "decision_tree = tree.export_graphviz(dt_model,out_file='tree_dot', feature_names=X_train,columns,max_depth = 2, filled = True)\n",
        "!dot -Tpng tree.dot -o tree.png"
      ],
      "execution_count": null,
      "outputs": []
    }
  ]
}